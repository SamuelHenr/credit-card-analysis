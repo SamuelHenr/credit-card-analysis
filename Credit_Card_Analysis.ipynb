{
 "cells": [
  {
   "cell_type": "code",
   "execution_count": null,
   "metadata": {},
   "outputs": [],
   "source": [
    "import pandas as pd\n",
    "import pysubgroup as ps"
   ]
  },
  {
   "cell_type": "code",
   "execution_count": null,
   "metadata": {
    "id": "78TCUzB9rpjp"
   },
   "outputs": [
    {
     "name": "stdout",
     "output_type": "stream",
     "text": [
      "Shape inicial: (8950, 18)\n"
     ]
    }
   ],
   "source": [
    "data_path = './CC GENERAL.csv'\n",
    "\n",
    "df = pd.read_csv(data_path)\n",
    "print(\"Shape inicial:\", df.shape)"
   ]
  },
  {
   "cell_type": "code",
   "execution_count": null,
   "metadata": {},
   "outputs": [],
   "source": [
    "# Como tempos poucos dados, em vez de excluir os valores nulos, vamos substituí-los pela mediana da coluna\n",
    "df = df.fillna(df.median(numeric_only=True))"
   ]
  },
  {
   "cell_type": "markdown",
   "metadata": {},
   "source": [
    "## Primeiro Experimento: Identificação de clientes mais endividados"
   ]
  },
  {
   "cell_type": "code",
   "execution_count": 13,
   "metadata": {},
   "outputs": [],
   "source": [
    "target = ps.NumericTarget('BALANCE')\n",
    "\n",
    "search_space = ps.create_selectors(df, ignore=['CUST_ID', 'BALANCE'])\n",
    "\n",
    "# Usaremos a StandardQF, que mede a diferença da média do subgrupo em desvios padrão\n",
    "# O parâmetro 'a' ajuda a ponderar o tamanho do subgrupo.\n",
    "quality_function = ps.StandardQFNumeric(a=0.5)"
   ]
  },
  {
   "cell_type": "code",
   "execution_count": null,
   "metadata": {},
   "outputs": [],
   "source": [
    "# Criando a tarefa de descoberta de subgrupos\n",
    "task = ps.SubgroupDiscoveryTask(\n",
    "    df,\n",
    "    target,\n",
    "    search_space,\n",
    "    result_set_size=10,  # Queremos os 10 melhores subgrupos\n",
    "    depth=3,             # Profundidade máxima da descrição\n",
    "    qf=quality_function\n",
    ")\n",
    "\n",
    "# Executando a busca\n",
    "result = ps.BeamSearch().execute(task)"
   ]
  },
  {
   "cell_type": "code",
   "execution_count": 17,
   "metadata": {},
   "outputs": [
    {
     "name": "stdout",
     "output_type": "stream",
     "text": [
      "============================================================\n",
      "Análise Detalhada dos Subgrupos de Maior Impacto\n",
      "============================================================\n",
      "Média Global: R$ 1,564.47\n",
      "Qualidade: 139102.674 | Subgrupo: CREDIT_LIMIT>=7000.0 AND MINIMUM_PAYMENTS>=994.39\n",
      "   > Tamanho: 803 cartões\n",
      "   > Média do Subgrupo: R$ 6,473.30\n",
      "----------------------------------------\n",
      "Qualidade: 138515.067 | Subgrupo: BALANCE_FREQUENCY>=1.0 AND CREDIT_LIMIT>=7000.0 AND MINIMUM_PAYMENTS>=994.39\n",
      "   > Tamanho: 740 cartões\n",
      "   > Média do Subgrupo: R$ 6,656.39\n",
      "----------------------------------------\n",
      "Qualidade: 135067.097 | Subgrupo: CREDIT_LIMIT>=7000.0 AND MINIMUM_PAYMENTS>=994.39 AND PRC_FULL_PAYMENT: [0.0:0.08[\n",
      "   > Tamanho: 708 cartões\n",
      "   > Média do Subgrupo: R$ 6,640.61\n",
      "----------------------------------------\n",
      "Qualidade: 133420.287 | Subgrupo: CREDIT_LIMIT>=7000.0 AND MINIMUM_PAYMENTS>=994.39 AND TENURE>=12\n",
      "   > Tamanho: 726 cartões\n",
      "   > Média do Subgrupo: R$ 6,516.17\n",
      "----------------------------------------\n",
      "Qualidade: 122549.928 | Subgrupo: MINIMUM_PAYMENTS>=994.39\n",
      "   > Tamanho: 1,790 cartões\n",
      "   > Média do Subgrupo: R$ 4,461.06\n",
      "----------------------------------------\n",
      "Qualidade: 122376.467 | Subgrupo: BALANCE_FREQUENCY>=1.0 AND MINIMUM_PAYMENTS>=994.39\n",
      "   > Tamanho: 1,643 cartões\n",
      "   > Média do Subgrupo: R$ 4,583.59\n",
      "----------------------------------------\n",
      "Qualidade: 121422.545 | Subgrupo: MINIMUM_PAYMENTS>=994.39 AND PRC_FULL_PAYMENT: [0.0:0.08[\n",
      "   > Tamanho: 1,571 cartões\n",
      "   > Média do Subgrupo: R$ 4,627.93\n",
      "----------------------------------------\n",
      "Qualidade: 121252.174 | Subgrupo: BALANCE_FREQUENCY>=1.0 AND MINIMUM_PAYMENTS>=994.39 AND PRC_FULL_PAYMENT: [0.0:0.08[\n",
      "   > Tamanho: 1,452 cartões\n",
      "   > Média do Subgrupo: R$ 4,746.52\n",
      "----------------------------------------\n",
      "Qualidade: 119481.953 | Subgrupo: CASH_ADVANCE>=1576.49 AND CREDIT_LIMIT>=7000.0 AND MINIMUM_PAYMENTS>=994.39\n",
      "   > Tamanho: 538 cartões\n",
      "   > Média do Subgrupo: R$ 6,715.71\n",
      "----------------------------------------\n",
      "Qualidade: 118723.539 | Subgrupo: BALANCE_FREQUENCY>=1.0 AND MINIMUM_PAYMENTS>=994.39 AND TENURE>=12\n",
      "   > Tamanho: 1,537 cartões\n",
      "   > Média do Subgrupo: R$ 4,592.78\n",
      "----------------------------------------\n"
     ]
    }
   ],
   "source": [
    "media_global = df['BALANCE'].mean()\n",
    "df_results = result.to_dataframe()\n",
    "\n",
    "print(\"=\"*60)\n",
    "print(\"Análise Detalhada dos Subgrupos de Maior Impacto\")\n",
    "print(\"=\"*60)\n",
    "print(f\"Média Global: R$ {media_global:,.2f}\")\n",
    "\n",
    "for index, row in df_results.iterrows():\n",
    "    # Coletando os valores da linha\n",
    "    qualidade = row['quality']\n",
    "    descricao = row['subgroup']\n",
    "    tamanho_subgrupo = row['size_sg']\n",
    "    media_sg = row['mean_sg']\n",
    "\n",
    "    # Imprimindo o \"card\" de resultado para cada subgrupo\n",
    "    print(f\"Qualidade: {qualidade:.3f} | Subgrupo: {descricao}\")\n",
    "    print(f\"   > Tamanho: {tamanho_subgrupo:,.0f} cartões\")\n",
    "    print(f\"   > Média do Subgrupo: R$ {media_sg:,.2f}\")\n",
    "    print(\"-\" * 40)"
   ]
  },
  {
   "cell_type": "markdown",
   "metadata": {},
   "source": [
    "### Interpretação inicial do primeiro experimento"
   ]
  },
  {
   "cell_type": "markdown",
   "metadata": {},
   "source": [
    "ATENÇÃO: ANÁLISE FEITA PELO GEMINI\n",
    "\n",
    "O atributo \"BALANCE\" significa saldo devedor. Ou seja, ele é o valor total que ainda precisa ser pago na fatura. As características que mais se repetem e definem os grupos com saldo devedor mais alto são:\n",
    "\n",
    "- **Pagamento Mínimo Elevado:** A condição MINIMUM_PAYMENTS >= 994.39 aparece em quase todas as regras de alta qualidade. Isso é um indicador direto de que o saldo devedor (BALANCE) total é muito alto, já que o pagamento mínimo é um percentual desse saldo. Este é o principal descritor encontrado, mas não descreve padrões muito interessantes, já que as duas variáveis sao correlacionadas.\n",
    "\n",
    "- **Limite de Crédito Alto:** A segunda condição mais forte é CREDIT_LIMIT >= 7000.0. Clientes com alto limite de crédito tendem a acumular um saldo devedor maior.\n",
    "\n",
    "- **Não Pagamento do Valor Total:** A regra PRC_FULL_PAYMENT: [0.0:0.08[ (ou seja, o cliente paga entre 0% e 8% do valor total da fatura) é um fator chave. Isso caracteriza o \"cliente rotativo\", que financia o saldo de um mês para o outro, acumulando juros e, consequentemente, aumentando o BALANCE.\n",
    "\n",
    "- **Frequência de Atualização do Saldo:** A condição BALANCE_FREQUENCY >= 1.0 indica que o saldo desses clientes é atualizado com muita frequência, sugerindo que são usuários ativos do cartão.\n",
    "\n",
    "**Insights principais**:\n",
    "1. **O Saldo Mais Elevado:** O subgrupo com a maior média de saldo devedor (R$ 6.715,71) é aquele que combina limite alto, pagamento mínimo alto e, crucialmente, saques em dinheiro (Cash Advance) elevados (CASH_ADVANCE >= 1.576,49). Isso sugere que o comportamento de saque é um forte acelerador do saldo devedor para clientes que já possuem um perfil de alto endividamento.\n",
    "\n",
    "2. **Clientes Antigos e Ativos:** Clientes mais antigos (TENURE >= 12) e com saldo frequentemente atualizado (BALANCE_FREQUENCY >= 1.0)  também são predominantes nesses grupos de alto saldo, indicando que esse comportamento de endividamento se consolida com o tempo de uso do cartão.\n",
    "\n",
    "Em resumo, essa análise identificou com sucesso o perfil do cliente \"endividado de alto valor\": um cliente antigo, com alto limite, que não quita a fatura e usa o crédito rotativo, muitas vezes potencializado pelo uso de saques (cash advance)."
   ]
  }
 ],
 "metadata": {
  "colab": {
   "authorship_tag": "ABX9TyPF4AYGUY8G1iPkSramNoGC",
   "provenance": []
  },
  "kernelspec": {
   "display_name": "Python 3",
   "name": "python3"
  },
  "language_info": {
   "codemirror_mode": {
    "name": "ipython",
    "version": 3
   },
   "file_extension": ".py",
   "mimetype": "text/x-python",
   "name": "python",
   "nbconvert_exporter": "python",
   "pygments_lexer": "ipython3",
   "version": "3.10.12"
  }
 },
 "nbformat": 4,
 "nbformat_minor": 0
}
